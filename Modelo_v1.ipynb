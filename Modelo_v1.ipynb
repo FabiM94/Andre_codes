{
 "cells": [
  {
   "cell_type": "code",
   "execution_count": 4,
   "metadata": {},
   "outputs": [],
   "source": [
    "from pyomo.environ import *\n"
   ]
  },
  {
   "cell_type": "code",
   "execution_count": 5,
   "metadata": {},
   "outputs": [],
   "source": [
    "# Crear el modelo\n",
    "model = ConcreteModel()"
   ]
  },
  {
   "cell_type": "code",
   "execution_count": 6,
   "metadata": {},
   "outputs": [],
   "source": [
    "\n",
    "# Parámetros constantes\n",
    "model.T = RangeSet(1, 24)  # Horizonte de 24 horas\n",
    "model.ICC = Param(initialize=50)  # Costo marginal\n",
    "model.Heat_Price = Param(initialize=38.13)  # Precio anual fijo de calor (ejemplo: 2024)\n",
    "model.Bmax = Param(initialize=1500)  # Capacidad máxima del buffer\n",
    "model.CP = Param(initialize=1000)  # Costo de partida (ejemplo)\n",
    "model.aFRR_up = Param(initialize=10)  # Reservas aFRR positivas\n",
    "model.aFRR_down = Param(initialize=10)  # Reservas aFRR negativas\n",
    "model.Pmin = Param(initialize=100)  # Potencia mínima\n",
    "model.Pmax = Param(initialize=300)  # Potencia máxima\n",
    "model.Mercado_spot = Param(model.T, initialize=lambda model, t: 100 + t)  # Ejemplo de precios spot horarios\n",
    "model.Demanda_q = Param(model.T, initialize=lambda model, t: 500)  # Demanda térmica fija (puede variar)\n",
    "\n"
   ]
  },
  {
   "cell_type": "code",
   "execution_count": null,
   "metadata": {},
   "outputs": [],
   "source": [
    "# Variables\n",
    "model.P = Var(model.T, domain=NonNegativeReals, bounds=(0, model.Pmax))  # Potencia generada\n",
    "model.Q = Var(model.T, domain=NonNegativeReals)  # Calor generado\n",
    "model.B = Var(model.T, domain=NonNegativeReals, bounds=(0, model.Bmax))  # Buffer de calor\n",
    "model.Costo_partida = Var(model.T, domain=NonNegativeReals)  # Costos de partida\n",
    "model.ENS = Var(model.T, domain=NonNegativeReals)  # Energía no servida\n",
    "model.is_starting = Var(model.T, domain=Binary)  # Variable binaria para encendido\n",
    "\n",
    "# Función objetivo\n",
    "def objective_rule(model):\n",
    "    return sum(\n",
    "        model.P[t] * (model.Mercado_spot[t] - model.ICC) +  # Ingreso por venta de electricidad\n",
    "        model.Heat_Price * model.Demanda_q[t] -  # Ingreso por venta de calor\n",
    "        model.Costo_partida[t] -  # Costo de partida\n",
    "        model.ENS[t]  # Energía no servida\n",
    "        for t in model.T\n",
    "    )\n",
    "model.obj = Objective(rule=objective_rule, sense=maximize)\n",
    "\n",
    "\n"
   ]
  },
  {
   "cell_type": "code",
   "execution_count": 12,
   "metadata": {},
   "outputs": [
    {
     "name": "stdout",
     "output_type": "stream",
     "text": [
      "1\n",
      "2\n",
      "3\n",
      "4\n",
      "5\n",
      "6\n",
      "7\n",
      "8\n",
      "9\n",
      "10\n",
      "11\n",
      "12\n",
      "13\n",
      "14\n",
      "15\n",
      "16\n",
      "17\n",
      "18\n",
      "19\n",
      "20\n",
      "21\n",
      "22\n",
      "23\n",
      "24\n"
     ]
    }
   ],
   "source": [
    "# Restricciones\n",
    "\n",
    "# Restricción de potencia generada con reservas aFRR\n",
    "def power_limits_rule(model, t):\n",
    "    return inequality(\n",
    "        model.Pmin + model.aFRR_up,\n",
    "        model.P[t],\n",
    "        model.Pmax - model.aFRR_down\n",
    "    )\n",
    "model.power_limits = Constraint(model.T, rule=power_limits_rule)\n",
    "\n",
    "# Restricción de buffer (calor almacenado)\n",
    "def buffer_balance_rule(model, t):\n",
    "    if t == 1:\n",
    "        return model.B[t] == model.Q[t] - model.Demanda_q[t]\n",
    "    return model.B[t] == model.B[t - 1] + model.Q[t] - model.Demanda_q[t]\n",
    "model.buffer_balance = Constraint(model.T, rule=buffer_balance_rule)\n",
    "\n",
    "# Restricción para energía no servida (ENS)\n",
    "def energy_not_served_rule(model, t):\n",
    "    return model.ENS[t] >= 4 * model.ICC * (model.Demanda_q[t] - model.Q[t] - model.B[t - 1])\n",
    "model.energy_not_served = Constraint(model.T, rule=energy_not_served_rule)\n",
    "\n",
    "# Restricción de costos de partida\n",
    "def startup_cost_rule(model, t):\n",
    "    return model.Costo_partida[t] == model.is_starting[t] * model.CP\n",
    "model.startup_cost = Constraint(model.T, rule=startup_cost_rule)\n",
    "\n",
    "# Restricciones de tiempo mínimo de encendido y apagado\n",
    "def min_off_time_rule(model, t):\n",
    "    if t >= 4:\n",
    "        return sum(model.is_starting[t - k] for k in range(4)) <= 1\n",
    "    return Constraint.Skip\n",
    "model.min_off_time = Constraint(model.T, rule=min_off_time_rule)\n",
    "\n",
    "def min_on_time_rule(model, t):\n",
    "    if t >= 4:\n",
    "        return sum(model.is_starting[t - k] for k in range(4)) >= 1\n",
    "    return Constraint.Skip\n",
    "model.min_on_time = Constraint(model.T, rule=min_on_time_rule)\n",
    "\n",
    "# Resolver el problema\n",
    "solver = SolverFactory('glpk')  # Puedes usar 'cbc' o 'glpk'\n",
    "result = solver.solve(model, tee=True)\n",
    "\n",
    "# Mostrar resultados\n",
    "print(\"Resultado:\", result)\n",
    "for t in model.T:\n",
    "    print(f\"Hora {t}: P = {model.P[t].value}, Q = {model.Q[t].value}, B = {model.B[t].value}, ENS = {model.ENS[t].value}\")\n"
   ]
  }
 ],
 "metadata": {
  "kernelspec": {
   "display_name": "Python 3",
   "language": "python",
   "name": "python3"
  },
  "language_info": {
   "codemirror_mode": {
    "name": "ipython",
    "version": 3
   },
   "file_extension": ".py",
   "mimetype": "text/x-python",
   "name": "python",
   "nbconvert_exporter": "python",
   "pygments_lexer": "ipython3",
   "version": "3.13.0"
  }
 },
 "nbformat": 4,
 "nbformat_minor": 2
}
